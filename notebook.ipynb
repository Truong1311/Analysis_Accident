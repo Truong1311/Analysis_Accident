{
 "cells": [
  {
   "cell_type": "markdown",
   "metadata": {},
   "source": [
    "# <font color='blue'>THÔNG TIN NHÓM</font>"
   ]
  },
  {
   "cell_type": "markdown",
   "metadata": {},
   "source": [
    "- STT: 5\n",
    "- Tên Nhóm: GoGo\n",
    "- Nhóm 4 thành viên:\n",
    "    + 18120507 Trương Công Phu\n",
    "    + 18120517 Nguyễn Công Bình Phương\n",
    "    + 18120532 Nguyễn Hoàng Sang\n",
    "    + 18120626 Đặng Quang Trường"
   ]
  },
  {
   "cell_type": "markdown",
   "metadata": {},
   "source": [
    "# <font color='blue'>PHÂN TÍCH</font>"
   ]
  },
  {
   "cell_type": "markdown",
   "metadata": {},
   "source": [
    "## 1. THÔNG TIN DỮ LIỆU"
   ]
  },
  {
   "cell_type": "markdown",
   "metadata": {},
   "source": [
    "Đây là tập dữ liệu về tai nạn xe hơi trên toàn quốc, bao gồm 49 tiểu bang của Hoa Kỳ. Dữ liệu tai nạn được thu thập từ tháng 2 năm 2016 đến tháng 12 năm 2020, sử dụng nhiều API cung cấp dữ liệu sự cố (hoặc sự kiện) giao thông trực tuyến. Các API này truyền phát dữ liệu giao thông được thu thập bởi nhiều thực thể, chẳng hạn như bộ giao thông vận tải Hoa Kỳ và tiểu bang, cơ quan thực thi pháp luật, camera giao thông và cảm biến giao thông trong mạng lưới đường bộ. Hiện tại, có khoảng 3 triệu hồ sơ tai nạn trong cơ sở dữ liệu này\n",
    "- Nguồn dữ liệu: https://www.kaggle.com/sobhanmoosavi/us-accidents\n",
    "- Trích dẫn:\n",
    "    + Moosavi, Sobhan, Mohammad Hossein Samavatian, Srinivasan Parthasarathy, and Rajiv Ramnath. “A Countrywide Traffic Accident Dataset.”, 2019.\n",
    "\n",
    "    + Moosavi, Sobhan, Mohammad Hossein Samavatian, Srinivasan Parthasarathy, Radu Teodorescu, and Rajiv Ramnath. \"Accident Risk Prediction based on Heterogeneous Sparse Data: New Dataset and Insights.\" In proceedings of the 27th ACM SIGSPATIAL International Conference on Advances in Geographic Information Systems, ACM, 2019."
   ]
  },
  {
   "cell_type": "markdown",
   "metadata": {},
   "source": [
    "## 2. TÌM HIỂU VÀ PHÂN TÍCH DỮ LIỆU"
   ]
  },
  {
   "cell_type": "markdown",
   "metadata": {},
   "source": [
    "### import necessary library"
   ]
  },
  {
   "cell_type": "code",
   "execution_count": null,
   "metadata": {},
   "outputs": [],
   "source": [
    "import pandas as pd\n",
    "import matplotlib.pyplot as plt\n",
    "import seaborn as sns\n",
    "import numpy as np\n",
    "# arima\n",
    "from statsmodels.graphics.tsaplots import plot_acf, plot_pacf\n",
    "from statsmodels.tsa.seasonal import seasonal_decompose\n",
    "from pmdarima.arima import auto_arima\n",
    "from pmdarima.arima.utils import nsdiffs\n",
    "import datetime\n",
    "import warnings\n",
    "# plot\n",
    "import plotly.graph_objects as go\n",
    "import plotly.graph_objects as go\n",
    "from plotly.offline import init_notebook_mode, iplot\n",
    "\n",
    "init_notebook_mode(connected=True) \n",
    "pd.set_option('display.max_columns', 49)\n",
    "%matplotlib inline\n",
    "warnings.filterwarnings(\"ignore\")\n",
    "# if you haven't installed libray above, can use:\n",
    "# !pip install pmdarima\n",
    "# !pip install plotly"
   ]
  },
  {
   "cell_type": "markdown",
   "metadata": {},
   "source": [
    "### Đọc dữ liệu và khám phá sơ lược"
   ]
  },
  {
   "cell_type": "code",
   "execution_count": null,
   "metadata": {},
   "outputs": [],
   "source": [
    "# read_data\n",
    "df = pd.read_csv('US_Accidents_Dec20_Updated.csv.zip', compression='zip', header=0, sep=',', quotechar='\"')\n",
    "df.head()"
   ]
  },
  {
   "cell_type": "code",
   "execution_count": null,
   "metadata": {
    "scrolled": true
   },
   "outputs": [],
   "source": [
    "df.info()"
   ]
  },
  {
   "cell_type": "markdown",
   "metadata": {},
   "source": [
    "#### Xem mô tả dữ liệu"
   ]
  },
  {
   "cell_type": "code",
   "execution_count": null,
   "metadata": {},
   "outputs": [],
   "source": [
    "# description of columns\n",
    "f_description = open('description.txt', 'r')\n",
    "content = f_description.readlines()\n",
    "lines = list(filter(lambda x: x != '\\n', content))\n",
    "descriptions = {line[:line.find(':')] : line[line.find(':') + 2:-1] for line in lines}\n",
    "descriptions"
   ]
  },
  {
   "cell_type": "markdown",
   "metadata": {},
   "source": [
    "#### Kiểm tra các cột dữ liệu thiếu"
   ]
  },
  {
   "cell_type": "markdown",
   "metadata": {},
   "source": [
    "Xem phần trăm thiếu dữ liệu của các cột"
   ]
  },
  {
   "cell_type": "code",
   "execution_count": null,
   "metadata": {},
   "outputs": [],
   "source": [
    "# ratio of missing data\n",
    "df_ratio_null = df.isnull().sum() / df.shape[0] * 100\n",
    "df_ratio_null = df_ratio_null[df_ratio_null > 0]\n",
    "df_ratio_null"
   ]
  },
  {
   "cell_type": "markdown",
   "metadata": {},
   "source": [
    "* Nhận xét: \n",
    "  + Cột Number thiếu đến 65% dữ liệu, ý nghĩa của cột này là số đường nhưng cũng không quan trọng lắm vì ta đã có tên đường (Street) làm đại diện, ta sẽ bỏ đi cột này\n",
    "  + Cột Wind_Chill(F) và cột Precipitation(in) thiếu dữ liệu khá nhiều(40,7% và 44,7%). Ta kiểm tra xem có phải các dữ liệu thiếu thì ý nghĩa là bằng 0 hay không. Tức là kiểm tra xem ngoài những giá trị Nan thì có giá trị bằng 0 hay không.Nếu không có thì ta thay các giá trị Nan bằng 0, còn nếu có thì ta sẽ bỏ luôn 2 cột này.\n",
    "  + Các cột còn lại có số lượng giá trị không nhiều lắm. Ta sẽ xử lí riêng khi phân tích từng thuộc tính."
   ]
  },
  {
   "cell_type": "code",
   "execution_count": null,
   "metadata": {},
   "outputs": [],
   "source": [
    "# Check column `Wind_Chill(F)` and `Precipitation(in)`\n",
    "print('number of value \"0\" in Precipitation {}'.format((df['Precipitation(in)'] == 0).sum()))\n",
    "print('number of value \"Nan\" in Precipitation {}'.format((df['Precipitation(in)'].isnull().sum())))\n",
    "print('number of value greater than \"0\" in Precipitation {}'.format((df['Precipitation(in)'] > 0).sum()))\n",
    "print('---------------------------------------')\n",
    "print('number of value \"0\" in Precipitation {}'.format((df['Wind_Chill(F)'] == 0).sum()))\n",
    "print('number of value \"Nan\" in Precipitation {}'.format((df['Wind_Chill(F)'].isnull().sum())))\n",
    "print('number of value greater than \"0\" in Precipitation {}'.format((df['Wind_Chill(F)'] > 0).sum()))"
   ]
  },
  {
   "cell_type": "markdown",
   "metadata": {},
   "source": [
    "=> Bỏ 2 cột này đi"
   ]
  },
  {
   "cell_type": "code",
   "execution_count": null,
   "metadata": {},
   "outputs": [],
   "source": [
    "df.drop(['Number', 'Precipitation(in)', 'Wind_Chill(F)'], axis=1, inplace=True)\n",
    "df.columns"
   ]
  },
  {
   "cell_type": "markdown",
   "metadata": {},
   "source": [
    "### Đầu tiên ta xem sơ lược qua các Bang(State), Thành phố (City) có số lượng tai nạn nhiều nhất"
   ]
  },
  {
   "cell_type": "code",
   "execution_count": null,
   "metadata": {},
   "outputs": [],
   "source": [
    "count_accident_top20_state = df.groupby('State')['State'].count().sort_values(ascending=False)[0:20]\n",
    "count_accident_top20_city = df.groupby('City')['City'].count().sort_values(ascending=False)[0:20]\n",
    "\n",
    "fig, axes = plt.subplots(1,2, figsize=(20,10))\n",
    "sns.barplot(y = count_accident_top20_state.index, x = count_accident_top20_state.values, ax=axes[0])\n",
    "axes[0].set_title(f'Top number of accident by State')\n",
    "\n",
    "sns.barplot(y = count_accident_top20_city.index, x = count_accident_top20_city.values, ax=axes[1])\n",
    "axes[1].set_title(f'Top number of accident by City')\n",
    "plt.show()"
   ]
  },
  {
   "cell_type": "markdown",
   "metadata": {},
   "source": [
    "<b>Cùng xem trên graph Map </b>"
   ]
  },
  {
   "cell_type": "markdown",
   "metadata": {},
   "source": [
    "- <font color='red'>POPULATION</font>"
   ]
  },
  {
   "cell_type": "code",
   "execution_count": null,
   "metadata": {},
   "outputs": [],
   "source": [
    " '''ref: https://plotly.com/python/bubble-maps/ '''\n",
    "df_pop = pd.read_csv('https://raw.githubusercontent.com/plotly/datasets/master/2014_us_cities.csv')\n",
    "df_pop.head()\n",
    "df_pop['name'] = df_pop['name'].str.strip()\n",
    "df_pop['text'] = df_pop['name'] + '<br>Population ' + (df_pop['pop']/1e6).astype(str)+' million'\n",
    "limits = [(0,2),(3,10),(11,20),(21,50),(50,3000)]\n",
    "colors = [\"royalblue\",\"crimson\",\"lightseagreen\",\"orange\",\"lightgrey\"]\n",
    "cities = []\n",
    "scale = 5000\n",
    "\n",
    "fig = go.Figure()\n",
    "\n",
    "for i in range(len(limits)):\n",
    "    lim = limits[i]\n",
    "    df_sub = df_pop[lim[0]:lim[1]]\n",
    "    fig.add_trace(go.Scattergeo(\n",
    "        locationmode = 'USA-states',\n",
    "        lon = df_sub['lon'],\n",
    "        lat = df_sub['lat'],\n",
    "        text = df_sub['text'],\n",
    "        marker = dict(\n",
    "            size = df_sub['pop']/scale,\n",
    "            color = colors[i],\n",
    "            line_color='rgb(40,40,40)',\n",
    "            line_width=0.5,\n",
    "            sizemode = 'area'\n",
    "        ),\n",
    "        name = '{0} - {1}'.format(lim[0],lim[1])))\n",
    "\n",
    "fig.update_layout(\n",
    "        title_text = '2014 US city populations<br>(Click legend to toggle traces)',\n",
    "        showlegend = True,\n",
    "        geo = dict(\n",
    "            scope = 'usa',\n",
    "            landcolor = 'rgb(217, 217, 217)',\n",
    "        )\n",
    "    )\n",
    "\n",
    "fig.show()"
   ]
  },
  {
   "cell_type": "markdown",
   "metadata": {},
   "source": [
    "**note**: Mặc dù là dữ liệu 2014, thời gian không hợp với tập dữ liệu ta đang xét. Nhưng ta có thể dùng để minh họa tìm ra insight với một độ tương quan chính xác nhất định"
   ]
  },
  {
   "cell_type": "markdown",
   "metadata": {},
   "source": [
    "- <font color='red'>TOTAL ACCIDENT</font>"
   ]
  },
  {
   "cell_type": "code",
   "execution_count": null,
   "metadata": {},
   "outputs": [],
   "source": [
    "df_state = df['State'].value_counts()\n",
    "\n",
    "fig = go.Figure(data=go.Choropleth(\n",
    "    locations=df_state.index, # Spatial coordinates\n",
    "    z = df_state.values.astype(float), # Data to be color-coded\n",
    "    locationmode = 'USA-states', # set of locations match entries in `locations`\n",
    "    colorscale = 'Reds',\n",
    "    colorbar_title = \"Sum of accident\",\n",
    "))\n",
    "\n",
    "fig.update_layout(\n",
    "    title_text = 'Total Accident of State in USE',\n",
    "    geo_scope='usa', # limite map scope to USA\n",
    ")\n",
    "\n",
    "fig.show()"
   ]
  },
  {
   "cell_type": "markdown",
   "metadata": {},
   "source": [
    "* Nhận xét: \n",
    "    + Tiểu bang California là tiểu bang có số vụ tai nạn cao nhất cao hơn rất nhiều so với top 2 - 5 phía dưới, cao gấp hơn 2 lần. Nguyên nhân đầu tiên chính là tiểu bang này là tiểu bang có dân số nhiều nhất nước Mỹ.\n",
    "    + 3 thành phố  có tai nạn nhiều nhất là: Los Angeles, Houston, Charlotte. Đặc điểm ở 3 thành phố này cũng đều nằm trong top các thành phố có mật độ dân số cao (Số liệu theo wikipedia).\n",
    "    + Ta thử kiếm tra các thành phố thuộc bang California xem:"
   ]
  },
  {
   "cell_type": "code",
   "execution_count": null,
   "metadata": {},
   "outputs": [],
   "source": [
    "CA_df = df[df['State'] == 'CA']['City'].value_counts().sort_values(ascending=False).head(10)\n",
    "plot = sns.barplot(y=CA_df.index, x=CA_df.values)\n",
    "plot.set_xlabel('City')\n",
    "plot.set_ylabel('Records')\n",
    "plot.set_title('Top 10 City có số Records lớn nhất tiểu bang California')"
   ]
  },
  {
   "cell_type": "markdown",
   "metadata": {},
   "source": [
    "* Nhận xét: thành phố có số Records cao nhất nước nằm ở tiểu bang California. Chính điều này làm cho số Records ở bang này rất cao."
   ]
  },
  {
   "cell_type": "markdown",
   "metadata": {},
   "source": [
    "### Các đoạn đường hay xảy ra tai nạn ở các thành phố có có số lượng tai nạn cao"
   ]
  },
  {
   "cell_type": "code",
   "execution_count": null,
   "metadata": {},
   "outputs": [],
   "source": [
    "#Get top 6 City\n",
    "df_top_6_city = df.groupby('City')['City'].count().sort_values(ascending=False)[0:6]\n",
    "top_6_city = df_top_6_city.index\n",
    "\n",
    "fig, axes = plt.subplots(3,2, figsize=(30,20))\n",
    "index = 0\n",
    "for i in range(3):\n",
    "    for j in range(2):\n",
    "        top_street = df[df['City'] == top_6_city[index]].groupby('Street')['Street'].count().sort_values(ascending=False)[0:10]\n",
    "        sns.barplot(y=top_street.index, x=top_street.values, ax=axes[i][j])\n",
    "        axes[i][j].set_title(f'Top 10 street with highest number of accidents in {top_6_city[index]} City')\n",
    "        index += 1"
   ]
  },
  {
   "cell_type": "markdown",
   "metadata": {},
   "source": [
    "**Ta thử  cùng xem qua thành phố Los Angeles có số lượng tai nạn cao nhất trên bản đồ thử xem**"
   ]
  },
  {
   "cell_type": "code",
   "execution_count": null,
   "metadata": {},
   "outputs": [],
   "source": [
    "import plotly.express as px\n",
    "df['accident'] = 1\n",
    "fig = px.density_mapbox(df[df['City'] == 'Los Angeles'], lat='Start_Lat', lon='Start_Lng', z='accident', hover_name='Street', radius=5,\n",
    "                        center=dict(lat=34.103172, lon=-118.249969), zoom=12,\n",
    "                        mapbox_style=\"open-street-map\", height=900)\n",
    "fig.update_geos(fitbounds=\"locations\", visible=False)\n",
    "fig.update_layout(margin={\"r\":0,\"t\":0,\"l\":0,\"b\":0})\n",
    "fig.show()"
   ]
  },
  {
   "cell_type": "markdown",
   "metadata": {},
   "source": [
    "* Nhận xét: Tai nạn hay xảy ra ở các đoạn cua, các giao lộ nhiều làn giao nhau."
   ]
  },
  {
   "cell_type": "markdown",
   "metadata": {},
   "source": [
    "### Diễn biến số vụ tai nạn qua từng năm."
   ]
  },
  {
   "cell_type": "code",
   "execution_count": null,
   "metadata": {},
   "outputs": [],
   "source": [
    "# Preprocessing Date columns\n",
    "df['Start_Time'] = pd.to_datetime(df['Start_Time'])\n",
    "df['year']       = df['Start_Time'].dt.strftime(\"%Y\")\n",
    "df['month']      = df['Start_Time'].dt.strftime(\"%m\")\n",
    "df['day']        = df['Start_Time'].dt.strftime(\"%d\")\n",
    "df['week']       = df['Start_Time'].dt.strftime(\"%a\")\n",
    "df['hour']       = df['Start_Time'].dt.strftime(\"%H\")\n",
    "df['Week']       = df['Start_Time'].dt.strftime(\"%W\")"
   ]
  },
  {
   "cell_type": "code",
   "execution_count": null,
   "metadata": {},
   "outputs": [],
   "source": [
    "# Visualize\n",
    "f, ax = plt.subplots(2,2, figsize = (18,10))\n",
    "f.suptitle('Thống kê số vụ tai nạn theo thời gian', fontsize = 22)\n",
    "\n",
    "count_year = df['year'].value_counts().sort_index()\n",
    "sns.barplot(x=count_year.index, y = count_year.values, ax = ax[0][0])\n",
    "plt.sca(ax[0][0])\n",
    "plt.xlabel('year')\n",
    "\n",
    "count_month = df['month'].value_counts().sort_index()\n",
    "sns.barplot(x=count_month.index, y = count_month.values, ax = ax[0][1], label='month')\n",
    "plt.sca(ax[0][1])\n",
    "plt.xlabel('month')\n",
    "\n",
    "count_week = df['week'].value_counts()\n",
    "day_map = {'Mon':0 , 'Tue':1 , 'Wed':2 , \"Thu\":3 , 'Fri':4 , \"Sat\": 5 , 'Sun':6}\n",
    "sns.barplot(y = count_week.values, x = count_week.index.map(day_map), ax = ax[1][0])\n",
    "plt.sca(ax[1][0])\n",
    "plt.xticks(np.arange(7), day_map.keys())\n",
    "plt.xlabel('day of week')\n",
    "\n",
    "count_hour = df['hour'].value_counts().sort_index()\n",
    "sns.barplot(x=count_hour.index, y = count_hour.values, ax = ax[1][1])\n",
    "plt.sca(ax[1][1])\n",
    "plt.xlabel('hour of day')"
   ]
  },
  {
   "cell_type": "markdown",
   "metadata": {},
   "source": [
    "* Nhận xét: \n",
    "    + Tình hình tai nạn xảy ra tăng dần theo năm, đặc biệt là năm 2020 - tăng rất nhanh so với năm 2019(gần gấp đôi).\n",
    "    + Tai nạn tăng nhanh những tháng cuối năm.\n",
    "    + Tai nạn thường xảy ra vào các giờ cao điểm như 7-8, 15-17.\n",
    "    + Tai nạn giảm vào cuối tuần."
   ]
  },
  {
   "cell_type": "markdown",
   "metadata": {},
   "source": [
    "### Tìm hiểu về mức độ nghiêm trọng"
   ]
  },
  {
   "cell_type": "markdown",
   "metadata": {},
   "source": [
    "`Severity: Shows the severity of the accident, a number between 1 and 4, where 1 indicates the least impact on traffic (i.e., short delay as a result of the accident) and 4 indicates a significant impact on traffic (i.e., long delay). Note that severity reported by different sources may differ in their underlying impact on traffic, so please separate data from different sources when doing severity-based analysis.`\n",
    "\n",
    "* Nhận xét: Theo như file mô tả về thuộc tính Severity, số liệu có vẻ sẽ không thống nhất từ nhiều nguồn. Vậy nên ở thuộc tính này ta sẽ xem xét dựa trên một bộ phận cụ thể."
   ]
  },
  {
   "cell_type": "markdown",
   "metadata": {},
   "source": [
    "#### Thống kê mức độ nghiêm trọng (Severity)"
   ]
  },
  {
   "cell_type": "code",
   "execution_count": null,
   "metadata": {},
   "outputs": [],
   "source": [
    "# check feature Severity\n",
    "count_severity_df = pd.DataFrame(df['Severity'].value_counts())\n",
    "count_severity_df\n",
    "plt.figure(figsize=(12,8))\n",
    "g = sns.barplot(x=count_severity_df.index, y=count_severity_df.Severity)\n",
    "g.set_xlabel('Severity')\n",
    "g.set_ylabel('Sum of Severity')\n",
    "for index, row in count_severity_df.iterrows():\n",
    "     g.text(index - 1,row.Severity*1.01, round(row.Severity,2), color='black', ha=\"center\")\n",
    "plt.show()"
   ]
  },
  {
   "cell_type": "markdown",
   "metadata": {},
   "source": [
    "Ta giả định rằng mức độ tai nạn cao là ở mức `Severity` >= 3. Ta xem thử tần suất mức độ nghiệm trọng cao xảy ra (Severity >= 3) trong 20 group(City, State, ...) có số lượng tai nạn cao nhất như thế nào.\n",
    "Công thức tính tần suất nghiêm trọng cao: \n",
    "\n",
    "$$ \\frac{count(Severity >= 3)}{ count(Severity)} $$"
   ]
  },
  {
   "cell_type": "markdown",
   "metadata": {},
   "source": [
    "#### Thống kê mức độ nghiêm trọng (Severity) theo Bang và Thành Phố"
   ]
  },
  {
   "cell_type": "code",
   "execution_count": null,
   "metadata": {},
   "outputs": [],
   "source": [
    "def get_probility_of_Severity(feature): \n",
    "    # Số lượng xảy ra tai nạn ở mỗi \"group\" theo feature\n",
    "    count_accident_top20 = df.groupby(feature)[feature].count().sort_values(ascending=False)[0:20]\n",
    "    df_top_20 = df[df[feature].apply(lambda x: True if x in count_accident_top20.index else False)]\n",
    "    df_hard_severity = df_top_20.groupby(feature)['Severity'].apply(lambda x: sum([a for a in x if a >= 3]))\n",
    "    df_severity = df_top_20.groupby(feature)['Severity'].sum()\n",
    "    df_probility = df_hard_severity / df_severity * 100\n",
    "    df_probility = df_probility.sort_values(ascending=False)\n",
    "    fig, axes = plt.subplots(1,2, figsize=(20,10))\n",
    "    sns.barplot(y = df_probility.index, x = df_probility.values, ax=axes[0])\n",
    "    axes[0].set_title(f'Top probility of hard severity by {feature}')\n",
    "    \n",
    "    sns.barplot(y = count_accident_top20.index, x = count_accident_top20.values, ax=axes[1])\n",
    "    axes[1].set_title(f'Top number of accident by {feature}')"
   ]
  },
  {
   "cell_type": "code",
   "execution_count": null,
   "metadata": {},
   "outputs": [],
   "source": [
    "get_probility_of_Severity('State')"
   ]
  },
  {
   "cell_type": "code",
   "execution_count": null,
   "metadata": {
    "scrolled": true
   },
   "outputs": [],
   "source": [
    "get_probility_of_Severity('City')"
   ]
  },
  {
   "cell_type": "markdown",
   "metadata": {},
   "source": [
    "* Ta sẽ chọn thành phố Los Angeles để tìm hiểu về thuộc tính Severity"
   ]
  },
  {
   "cell_type": "markdown",
   "metadata": {},
   "source": [
    "#### Heatmap about severity of Los Angeles city"
   ]
  },
  {
   "cell_type": "code",
   "execution_count": null,
   "metadata": {},
   "outputs": [],
   "source": [
    "import plotly.express as px\n",
    "fig = px.density_mapbox(df[df['City'] == 'Los Angeles'], lat='Start_Lat', lon='Start_Lng', z='Severity', hover_name='Street', radius=5,\n",
    "                        center=dict(lat=34.103172, lon=-118.249969), zoom=12,\n",
    "                        mapbox_style=\"open-street-map\", height=900)\n",
    "fig.update_geos(fitbounds=\"locations\", visible=False)\n",
    "fig.update_layout(margin={\"r\":0,\"t\":0,\"l\":0,\"b\":0})\n",
    "fig.show()"
   ]
  },
  {
   "cell_type": "markdown",
   "metadata": {},
   "source": [
    "#### Mức độ tai nạn giao thông theo ngày trong tuần"
   ]
  },
  {
   "cell_type": "code",
   "execution_count": null,
   "metadata": {},
   "outputs": [],
   "source": [
    "df_LA = df[df['City'] == 'Los Angeles']\n",
    "df_hard_severity = df_LA.groupby('week')['Severity'].apply(lambda x: sum([a for a in x if a >= 3]))\n",
    "df_severity = df_LA.groupby('week')['Severity'].sum()\n",
    "\n",
    "plt.figure(figsize=(12,8))\n",
    "sns.barplot(y = df_severity.values, x = df_severity.index.map(day_map), \n",
    "            color='orange', label='Sum Severity')\n",
    "sns.barplot(y = df_hard_severity.values, x = df_hard_severity.index.map(day_map), \n",
    "            color='r', label='Sum Hard Severity')\n",
    "plt.xticks(np.arange(7), day_map.keys())\n",
    "plt.legend()\n",
    "plt.show()"
   ]
  },
  {
   "cell_type": "markdown",
   "metadata": {},
   "source": [
    "#### Mức độ tai nạn giao thông theo giờ trong ngày, tháng trong năm và theo từng năm."
   ]
  },
  {
   "cell_type": "code",
   "execution_count": null,
   "metadata": {},
   "outputs": [],
   "source": [
    "features = ['hour', 'month', 'year']\n",
    "\n",
    "fig, axes = plt.subplots(3,1, figsize=(10,20))\n",
    "for i, feature in enumerate(features):\n",
    "    df_hard_severity = df_LA.groupby(feature)['Severity'].apply(lambda x: sum([a for a in x if a >= 3])).sort_index()\n",
    "    df_severity = df_LA.groupby(feature)['Severity'].sum().sort_index()\n",
    "    \n",
    "    plt.figure(figsize=(12,8))\n",
    "    sns.barplot(y = df_severity.values, x = df_severity.index, \n",
    "                color='orange', label='Sum Severity', ax=axes[i])\n",
    "    sns.barplot(y = df_hard_severity.values, x = df_hard_severity.index, \n",
    "                color='r', label='Sum Hard Severity', ax=axes[i])\n",
    "    axes[i].legend()\n",
    "\n",
    "plt.show()"
   ]
  },
  {
   "cell_type": "markdown",
   "metadata": {},
   "source": [
    "* Nhận xét: Mức độ nghiêm trọng cao có xu hướng giảm theo từng năm mặc dù số tai nạn tăng theo từng năm"
   ]
  },
  {
   "cell_type": "markdown",
   "metadata": {},
   "source": [
    "### TÌM HIỂU TAI NẠN THEO CÁC ĐIỀU KIỆN GIAO THÔNG"
   ]
  },
  {
   "cell_type": "markdown",
   "metadata": {},
   "source": [
    "- Theo như file description các cột về điều kiện giao thông ở gần vị trí tai nạn là các cột: `Amenity, Bump, Crossing, Give_Way, Junction, No_Exit, Railway, Roundabout, Station, Stop, Traffic_Calming, Traffic_Signal, Turning_Loop`\n",
    "- Các cột này có kiểu `bool`, nhận giá trị `True` nghĩa là có xuất hiện điều kiện, `False` thì ngược lại\n",
    "- Đặc biệt các cột này không thiếu dữ liệu\n",
    "=> Ta cùng tìm hiểu các cột này"
   ]
  },
  {
   "cell_type": "code",
   "execution_count": null,
   "metadata": {},
   "outputs": [],
   "source": [
    "condition_traffic_df = df.select_dtypes(include='bool')\n",
    "condition_columns = condition_traffic_df.columns\n",
    "condition_columns"
   ]
  },
  {
   "cell_type": "code",
   "execution_count": null,
   "metadata": {},
   "outputs": [],
   "source": [
    "df_bool = pd.DataFrame(df[condition_columns].sum(), columns=['True'])\n",
    "df_bool['False'] = df.shape[0] - df_bool['True']\n",
    "df_bool = df_bool.T \n",
    "df_bool.style.background_gradient(cmap='Wistia',subset=[\"Amenity\"])\\\n",
    "            .background_gradient(cmap='Blues',subset=[\"Bump\"])\\\n",
    "            .background_gradient(cmap='Greens',subset=[\"Crossing\"])\\\n",
    "            .background_gradient(cmap='Greys',subset=[\"Give_Way\"])\\\n",
    "            .background_gradient(cmap='Oranges',subset=[\"Junction\"])\\\n",
    "            .background_gradient(cmap='Reds',subset=[\"No_Exit\"])\\\n",
    "            .background_gradient(cmap='YlOrBr',subset=[\"Railway\"])\\\n",
    "            .background_gradient(cmap='OrRd',subset=[\"Roundabout\"])\\\n",
    "            .background_gradient(cmap='PuRd',subset=[\"Station\"])\\\n",
    "            .background_gradient(cmap='GnBu',subset=[\"Stop\"])\\\n",
    "            .background_gradient(cmap='PuBu',subset=[\"Traffic_Calming\"])\\\n",
    "            .background_gradient(cmap='PuBuGn',subset=[\"Traffic_Signal\"])\\\n",
    "            .background_gradient(cmap='YlGnBu',subset=[\"Turning_Loop\"])"
   ]
  },
  {
   "cell_type": "markdown",
   "metadata": {},
   "source": [
    " * Nhận xét: Quan sát heatmap trên, ta nhận thấy rằng các thuộc tính xét ở bảng trên đa số nhận giá trị False, tức là tai nạn thường xảy ra khi thiếu các điệu kiện trên. Theo file mô tả, ý nghĩa của các thuộc tính trên như sau:\n",
    "    + Amenity: Cho biết có sự hiện diện của một tòa nhà họặc địa điểm nào ở gần không.\n",
    "    + Bump: Cho biết có sự hiện của gờ giảm tốc ở gần hay không\n",
    "    + Crossing: Cho biết có xuất hiện nơi có hai đường bộ, hai đường sắt hoặc đường bộ và đường sắt giao nhau ở gần hay không\n",
    "    + Give_Way: Cho biết có các give_way(nơi nhường đường, biển báo nhường đường) ở gần không\n",
    "    + Junction: Cho biết có giao lộ ở gần hay không \n",
    "    + No_Exit: Cho biết có biển báo no_exit ở gần hay không\n",
    "    + Railway: Cho biết có đường sắt ở gần hay không\n",
    "    + Roundabout: Cho biết có bùng binh ở gần hay không\n",
    "    + Station: Cho biết có các trạm ga tàu ở gần hay không\n",
    "    + Stop: Cho biết có các biển báo dừng ở gần hay không\n",
    "    + Traffic_Calming: Cho biết có các biện pháp làm chậm giao thông ở gần hay không\n",
    "    + Traffic_Signal: Cho biết có các tín hiểu, đèn giao thông ở gần hay không\n",
    "    + Turning_Loop: Cho biết có vòng xoay ở gần hay không"
   ]
  },
  {
   "cell_type": "markdown",
   "metadata": {},
   "source": [
    "#### Cùng xem quan hệ corelation của các thuộc tính này. Tuy nhiên ta xe đảo lại 2 giá trị (True, False), tức là True thành False, False thành True. Điều này có ý nghĩa rằng quan hệ giữa sự thiếu các điều kiện giao thông (giá trị bằng True tức là điều kiện đó bị thiếu)"
   ]
  },
  {
   "cell_type": "code",
   "execution_count": null,
   "metadata": {},
   "outputs": [],
   "source": [
    "plt.figure(figsize=(16,12))\n",
    "sns.heatmap((-condition_traffic_df).corr(), annot=True, cbar=True, fmt='.2f', center=0, square=True)"
   ]
  },
  {
   "cell_type": "markdown",
   "metadata": {},
   "source": [
    "Ta thấy có 2 cặp có độ tương quan cao là (Traffic_Calming, Bump) và (Traffic_Signal, Crossing). Thật ra điều này cũng dễ hiểu bởi vì Trafic_Calming và Bump đều mang ý nghĩa giảm tốc độ. Còn Traffic_Signal và Crossing thì thường là nơi nào có tín hiệu đèn giao thông thì thường có vạch qua đường ở đó)"
   ]
  },
  {
   "cell_type": "markdown",
   "metadata": {},
   "source": [
    "### ẢNH HƯỞNG CỦA ĐIỆU KIỆN THỜI TIẾT ĐỐI VỚI TAI NẠN GIAO THÔNG"
   ]
  },
  {
   "cell_type": "code",
   "execution_count": null,
   "metadata": {},
   "outputs": [],
   "source": [
    "# columns weather\n",
    "weather_columns = ['Temperature(F)', 'Humidity(%)', \n",
    "                  'Pressure(in)', 'Visibility(mi)', 'Wind_Direction', \n",
    "                  'Wind_Speed(mph)','Weather_Condition']\n",
    "weather_df = df[weather_columns]\n",
    "weather_df.head()"
   ]
  },
  {
   "cell_type": "code",
   "execution_count": null,
   "metadata": {},
   "outputs": [],
   "source": [
    "weather_df.info()"
   ]
  },
  {
   "cell_type": "code",
   "execution_count": null,
   "metadata": {},
   "outputs": [],
   "source": [
    "weather_df.isnull().sum()/weather_df.shape[0]"
   ]
  },
  {
   "cell_type": "markdown",
   "metadata": {},
   "source": [
    "Trừ cột `Wind_Speed` thì các cột còn lại thiếu dữ liệu khá ít. Ta có thể xóa các dòng thiếu. Cùng xem cột `Wind_speed` để tìm ra cách xử lí hợp lí"
   ]
  },
  {
   "cell_type": "code",
   "execution_count": null,
   "metadata": {},
   "outputs": [],
   "source": [
    "weather_df['Wind_Speed(mph)']"
   ]
  },
  {
   "cell_type": "code",
   "execution_count": null,
   "metadata": {},
   "outputs": [],
   "source": [
    "sns.histplot(weather_df['Wind_Speed(mph)'].dropna().values, kde=True)"
   ]
  },
  {
   "cell_type": "markdown",
   "metadata": {},
   "source": [
    "dữ liệu phân bố chủ yếu ở phần đầu"
   ]
  },
  {
   "cell_type": "code",
   "execution_count": null,
   "metadata": {},
   "outputs": [],
   "source": [
    "weather_df['Wind_Speed(mph)'].describe()"
   ]
  },
  {
   "cell_type": "markdown",
   "metadata": {},
   "source": [
    "Ta thấy được rằng dữ liệu của `Wind_Speed` chủ yếu phân bố ở đoạn [4.6, 10.04]. Ta sẽ điền giá trị bị thiếu bằng giá trị trung bình $\\frac{4.6 + 10.04}{2} =  7.32$"
   ]
  },
  {
   "cell_type": "code",
   "execution_count": null,
   "metadata": {},
   "outputs": [],
   "source": [
    "weather_df['Wind_Speed(mph)'].fillna(7.32, inplace=True)\n",
    "weather_df['Wind_Speed(mph)'].isnull().sum()"
   ]
  },
  {
   "cell_type": "code",
   "execution_count": null,
   "metadata": {},
   "outputs": [],
   "source": [
    "# drop row missing value\n",
    "weather_df.dropna(inplace=True)\n",
    "\n",
    "#Distributing numerical columns\n",
    "number_col = weather_df.select_dtypes(include='number').columns\n",
    "fig, axes = plt.subplots(2,2, figsize=(20,20))\n",
    "index = 0\n",
    "for i in range(2):\n",
    "    for j in range(2):\n",
    "        sns.histplot(data=weather_df, x=number_col[index], kde=True, ax=axes[i][j])\n",
    "        index += 1"
   ]
  },
  {
   "cell_type": "markdown",
   "metadata": {},
   "source": [
    "* Nhận xét\n",
    "    - Temperature(F): tai nạn xảy ra nhiều ở nhiệt độ trong đoạn [50, 70] (F) (Mức trung bình)\n",
    "    - Humidity(%): phân phối khá đều, chỉ lệch ở mức độ ẩm 90% và khoảng 100% (hai điểm này tai nạn khá cao)\n",
    "    - Pressure(in): Tai nạn xảy ra nhiều ở mức áp suất không khí ở khoảng 30in. Có thể cho rằng áp suất không khí không ảnh hưởng lắm vì giá trị xấp xỉ 30in là mức tiêu chuẩn ở gần mặt đất\n",
    "    - Visibility(mi): Tai nạn xảy ra nhiều ở mức Visibility (khả năng nhìn thấy tính bằng m) khá thấp (phân phối lệch hẳn qua bê trái)."
   ]
  },
  {
   "cell_type": "code",
   "execution_count": null,
   "metadata": {},
   "outputs": [],
   "source": [
    "# caterogical columns\n",
    "# Weather\n",
    "weather_df['Weather_Condition'].value_counts()"
   ]
  },
  {
   "cell_type": "code",
   "execution_count": null,
   "metadata": {},
   "outputs": [],
   "source": [
    "(weather_df['Weather_Condition'].value_counts() > 3000).sum()"
   ]
  },
  {
   "cell_type": "markdown",
   "metadata": {},
   "source": [
    "số lượng nhãn của Weather_Condition khá nhiều (126 nhãn), trong đó chỉ có 22 nhãn là xuất hiện trên 3000 lần (trong 2801332 dòng dữ liệu). Ta sẽ thống kê 22 nhãn xuất hiện cao nhất."
   ]
  },
  {
   "cell_type": "code",
   "execution_count": null,
   "metadata": {},
   "outputs": [],
   "source": [
    "top_22 = weather_df['Weather_Condition'].value_counts().sort_values(ascending=False)[0:22]\n",
    "plt.figure(figsize=(12,8))\n",
    "sns.barplot(y=top_22.index, x=top_22.values)"
   ]
  },
  {
   "cell_type": "markdown",
   "metadata": {},
   "source": [
    "* Nhận xét: Nhìn biểu đồ trên có vẻ như thời tiết đẹp thì tai nạn nhiều. Có thể suy ra rằng vào thời tiết đẹp thì mọi người ra đường nhiều nên tỉ lệ tai nạn cao"
   ]
  },
  {
   "cell_type": "code",
   "execution_count": null,
   "metadata": {},
   "outputs": [],
   "source": [
    "#Wind Direction\n",
    "wind_direction_count = weather_df['Wind_Direction'].value_counts()\n",
    "wind_direction_count"
   ]
  },
  {
   "cell_type": "code",
   "execution_count": null,
   "metadata": {},
   "outputs": [],
   "source": [
    "plt.figure(figsize=(10,10))\n",
    "sns.barplot(y = wind_direction_count.index, x = wind_direction_count.values)"
   ]
  },
  {
   "cell_type": "markdown",
   "metadata": {},
   "source": [
    "* Nhận xét: có 2 nhãn `CALM` và `calm` chiếm cao nhất, thật ra 2 nhãn này là như nhau, tức lấy tổng lại có hơn 500 000 nhãn `calm`. Tai nạn xảy ra nhiều lúc trời lặng gió`"
   ]
  },
  {
   "cell_type": "markdown",
   "metadata": {},
   "source": [
    "### Phân tích time series "
   ]
  },
  {
   "cell_type": "markdown",
   "metadata": {},
   "source": [
    "#### Lấy dữ liệu là ngày xảy ra tai nạn (thuộc tính `Start_Time`) để dự đoán tình hình tai nạn của những năm tiếp theo."
   ]
  },
  {
   "cell_type": "code",
   "execution_count": null,
   "metadata": {},
   "outputs": [],
   "source": [
    "df['Start_Time'] = pd.to_datetime(df['Start_Time'])\n",
    "day_time = pd.to_datetime(df['Start_Time'].dt.strftime(\"%Y-%m-%d\"))\n",
    "\n",
    "y_16_20 = day_time.value_counts().sort_index()\n",
    "plt.figure(figsize=(16,5), dpi = 120)\n",
    "plt.plot(y_16_20.index, y_16_20)\n",
    "plt.title(\"Diễn biến tai nạn từ năm 2016 - 2020\", size =22)\n",
    "plt.show()"
   ]
  },
  {
   "cell_type": "code",
   "execution_count": null,
   "metadata": {},
   "outputs": [],
   "source": [
    "result = seasonal_decompose(pd.DataFrame(y_16_20), model='multiplicative',period = 3)\n",
    "plt.rcParams.update({'figure.figsize': (12,10)})\n",
    "result.plot().suptitle('2016-2020', fontsize=22)"
   ]
  },
  {
   "cell_type": "markdown",
   "metadata": {},
   "source": [
    "* Nhận xét: Nhận thấy `trend` và `seasonal` của thời gian từ năm 2016 đến năm 2020 không được thể hiện rõ ràng. Khó để dự đoán tình hình tai nạn của các năm tiếp theo.\n",
    "<b><i> ==> Dự đoán theo từng năm</i> </b> "
   ]
  },
  {
   "cell_type": "markdown",
   "metadata": {},
   "source": [
    "# Tìm ra model tốt nhất với tập train đầu vào và chu kì của mùa vụ là m\n",
    "    + auto_arima sẽ chị ra các giá trị p,q để có được mô hình tốt nhất với tiêu chí là AIC\n",
    "    (Mô hình có AIC nhỏ hơn nói chung sẽ tốt hơn)\n",
    "    + Sau khi đã tìm ra được mô hình ARIMA tốt nhất. Chúng ta sẽ dự báo cho khoảng thời gian tiếp theo.\n",
    "    Dự báo cho chuỗi thời gian khá đặc thù và khác biệt so với các lớp mô hình dự báo khác vì giá trị time step \n",
    "    liền trước sẽ được sử dụng để dự báo cho time step liền sau.\n",
    "##### Sử dụng auto_arima để tìm ra model tốt nhất với các siêu tham số như sau:\n",
    "    + Các giá trị p, q sẽ được chạy từ [start_p,max_p], [start_q,max_q]\n",
    "    + m : là giá trị mùa vụ( nghĩa là cứ sau m thì sẽ hình thành một chu kì mới).\n",
    "    + seasonal = True : để chỉ arima sử dung dự đoán có tính mùa vụ.\n",
    "    + Chọn d=0\n",
    "    + Chọn D từ model nsdiffs của arima\n",
    "    + Phương pháp điều chỉnh mô hình stepwise."
   ]
  },
  {
   "cell_type": "code",
   "execution_count": null,
   "metadata": {},
   "outputs": [],
   "source": [
    "def best_model(train,m):\n",
    "    D = nsdiffs(train,m=m,max_D = 12, test= 'ocsb')\n",
    "    model_sarima = auto_arima(train, start_p=0, start_q=0,\n",
    "                           max_p=7, max_q=7, m=m,\n",
    "                           start_P=0, seasonal=True,\n",
    "                           d=0, D=D, trace=True,\n",
    "                           error_action='ignore',  \n",
    "                           suppress_warnings=True, \n",
    "                           stepwise=True)\n",
    "    return model_sarima"
   ]
  },
  {
   "cell_type": "code",
   "execution_count": null,
   "metadata": {},
   "outputs": [],
   "source": [
    "# Độ lỗi\n",
    "def _measure_metric(y, y_pred):\n",
    "    e = y-y_pred\n",
    "    mse=np.mean(e**2)\n",
    "    rmse=np.sqrt(mse)\n",
    "    mae=np.mean(np.abs(e))\n",
    "    mape=np.mean(np.abs(e/y))*100\n",
    "\n",
    "    print('Mean Square Error: {}'.format(mse))\n",
    "    print('Root Mean Square Error: {}'.format(rmse))\n",
    "    print('Mean Absolute Error: {}'.format(mae))\n",
    "    print('Mean Absolute Percentage Error: {}'.format(mape))\n",
    "    return mse, rmse, mae, mape\n",
    "\n",
    "def draw(f, fitted):\n",
    "    plt.figure(figsize=(20,6))\n",
    "    plt.plot(f, label='Actual')\n",
    "    plt.plot(fitted_seri, color='red', linestyle='--', label = 'Forecast')\n",
    "    plt.legend()\n",
    "    plt.show()"
   ]
  },
  {
   "cell_type": "markdown",
   "metadata": {},
   "source": [
    "#### Phân tích các yếu tố xu hướng (trend), mùa vụ (seasonal), phần dư (residual) qua các năm"
   ]
  },
  {
   "cell_type": "code",
   "execution_count": null,
   "metadata": {
    "scrolled": false
   },
   "outputs": [],
   "source": [
    "from statsmodels.tsa.seasonal import seasonal_decompose\n",
    "for i in range(5):\n",
    "    f = day_time[(day_time >= datetime.datetime(2016+i,1,1)) & (day_time <= datetime.datetime(2016+i,12,31))].value_counts().sort_index()\n",
    "    result = seasonal_decompose(pd.DataFrame(f), model='multiplicative',period = 3)\n",
    "    plt.rcParams.update({'figure.figsize': (12,10)})\n",
    "    result.plot().suptitle('%s'%(str(2016+i)), fontsize=22)\n",
    "plt.show()"
   ]
  },
  {
   "cell_type": "markdown",
   "metadata": {},
   "source": [
    "* Nhận xét: Các năm đều có xu hướng và mùa vụ của tai nạn: ==> có thể dự đoán tương lai."
   ]
  },
  {
   "cell_type": "markdown",
   "metadata": {},
   "source": [
    "#### Dự đoán:"
   ]
  },
  {
   "cell_type": "markdown",
   "metadata": {},
   "source": [
    "##### Theo năm: Dùng dữ liệu trong 1 năm với tập train là từ đầu năm đến tháng 11 và tập test là tháng 12"
   ]
  },
  {
   "cell_type": "markdown",
   "metadata": {},
   "source": [
    "##### - Năm 2016"
   ]
  },
  {
   "cell_type": "code",
   "execution_count": null,
   "metadata": {},
   "outputs": [],
   "source": [
    "# Năm 2016\n",
    "f = day_time[(day_time >= datetime.datetime(2016,1,1)) & (day_time <= datetime.datetime(2016,12,31))].value_counts().sort_index()\n",
    "n_pred_perious = 30\n",
    "train = f[:-n_pred_perious]\n",
    "test = f[-n_pred_perious:]"
   ]
  },
  {
   "cell_type": "markdown",
   "metadata": {},
   "source": [
    "- Vẽ các biểu đồ acf và pacf để tìm giá trị mùa vụ:"
   ]
  },
  {
   "cell_type": "code",
   "execution_count": null,
   "metadata": {},
   "outputs": [],
   "source": [
    "fig, axes = plt.subplots(1, 2, figsize = (20,5))\n",
    "plot_acf(f, ax = axes[0])\n",
    "plot_pacf(f, ax = axes[1])\n",
    "plt.show()"
   ]
  },
  {
   "cell_type": "markdown",
   "metadata": {},
   "source": [
    "- Chọn m = 8"
   ]
  },
  {
   "cell_type": "code",
   "execution_count": null,
   "metadata": {},
   "outputs": [],
   "source": [
    "model_sarima = best_model(train,m = 8)\n",
    "fitted, confint = model_sarima.predict(n_periods=n_pred_perious, return_conf_int=True)\n",
    "date = pd.date_range(train.index[-1], periods=n_pred_perious, freq='D')\n",
    "fitted_seri = pd.Series(fitted, index=date)"
   ]
  },
  {
   "cell_type": "code",
   "execution_count": null,
   "metadata": {},
   "outputs": [],
   "source": [
    "# độ lỗi\n",
    "_measure_metric(test, fitted_seri)"
   ]
  },
  {
   "cell_type": "code",
   "execution_count": null,
   "metadata": {},
   "outputs": [],
   "source": [
    "draw(f, fitted_seri)"
   ]
  },
  {
   "cell_type": "markdown",
   "metadata": {},
   "source": [
    "##### - Năm 2017"
   ]
  },
  {
   "cell_type": "code",
   "execution_count": null,
   "metadata": {},
   "outputs": [],
   "source": [
    "f = day_time[(day_time >= datetime.datetime(2017,1,1)) & (day_time <= datetime.datetime(2017,12,31))].value_counts().sort_index()\n",
    "n_pred_perious = 30\n",
    "train = f[:-n_pred_perious]\n",
    "test = f[-n_pred_perious:]"
   ]
  },
  {
   "cell_type": "code",
   "execution_count": null,
   "metadata": {},
   "outputs": [],
   "source": [
    "fig, axes = plt.subplots(1, 2, figsize = (20,5))\n",
    "plot_acf(f, ax = axes[0])\n",
    "plot_pacf(f, ax = axes[1])\n",
    "plt.show()"
   ]
  },
  {
   "cell_type": "markdown",
   "metadata": {},
   "source": [
    "- Chọn: m = 8"
   ]
  },
  {
   "cell_type": "code",
   "execution_count": null,
   "metadata": {},
   "outputs": [],
   "source": [
    "model_sarima = best_model(train,m = 8)\n",
    "fitted, confint = model_sarima.predict(n_periods=n_pred_perious, return_conf_int=True)\n",
    "date = pd.date_range(train.index[-1], periods=n_pred_perious, freq='D')\n",
    "fitted_seri = pd.Series(fitted, index=date)"
   ]
  },
  {
   "cell_type": "code",
   "execution_count": null,
   "metadata": {},
   "outputs": [],
   "source": [
    "_measure_metric(test,fitted_seri)"
   ]
  },
  {
   "cell_type": "code",
   "execution_count": null,
   "metadata": {},
   "outputs": [],
   "source": [
    "draw(f, fitted_seri)"
   ]
  },
  {
   "cell_type": "markdown",
   "metadata": {},
   "source": [
    "##### Dùng dữ liệu năm 2019 và 2020 để dự đoán 2 tháng đầu năm 2021."
   ]
  },
  {
   "cell_type": "code",
   "execution_count": null,
   "metadata": {},
   "outputs": [],
   "source": [
    "train = day_time[(day_time >= datetime.datetime(2019,1,1)) \n",
    "                 & (day_time <= datetime.datetime(2020,12,31))]\\\n",
    "            .value_counts()\\\n",
    "            .sort_index()"
   ]
  },
  {
   "cell_type": "code",
   "execution_count": null,
   "metadata": {},
   "outputs": [],
   "source": [
    "plot_pacf(train)\n",
    "plt.show()"
   ]
  },
  {
   "cell_type": "markdown",
   "metadata": {},
   "source": [
    "Nhìn vào biểu đồ PACF có thể lựa chọn giá trị mùa vụ là 8( vì các giá trị PACF tăng đột biến ở các độ trễ 8, 15 , 22)"
   ]
  },
  {
   "cell_type": "code",
   "execution_count": null,
   "metadata": {},
   "outputs": [],
   "source": [
    "# Predict:\n",
    "train = day_time[(day_time >= datetime.datetime(2019,1,1)) & (day_time <= datetime.datetime(2020,12,31))].value_counts().sort_index()\n",
    "n_pred_perious = 60\n",
    "\n",
    "model_sarima = best_model(train,m = 8)\n",
    "fitted, confint = model_sarima.predict(n_periods=n_pred_perious, return_conf_int=True)\n",
    "date = pd.date_range(train.index[-1], periods=n_pred_perious, freq='D')\n",
    "fitted_seri = pd.Series(fitted, index=date)"
   ]
  },
  {
   "cell_type": "code",
   "execution_count": null,
   "metadata": {},
   "outputs": [],
   "source": [
    "# Predict model\n",
    "lower = confint[:, 0]\n",
    "upper = confint[:, 1]\n",
    "\n",
    "plt.figure(figsize=(16, 8))\n",
    "plt.plot(train, label='Actual')\n",
    "plt.plot(fitted_seri, color='red', label = 'Forecast')\n",
    "plt.fill_between(date, lower, upper, color='k', alpha=0.15)\n",
    "plt.legend()\n",
    "plt.title('SARIMA regression model forecast for 60 next days')\n",
    "plt.show()"
   ]
  },
  {
   "cell_type": "markdown",
   "metadata": {},
   "source": [
    "#### Dự đoán cho năm 2021:"
   ]
  },
  {
   "cell_type": "code",
   "execution_count": null,
   "metadata": {},
   "outputs": [],
   "source": [
    "train = day_time.value_counts().sort_index()"
   ]
  },
  {
   "cell_type": "code",
   "execution_count": null,
   "metadata": {},
   "outputs": [],
   "source": [
    "f, axes = plt.subplots(1,2,figsize = (20,6))\n",
    "plot_acf(train, ax = axes[0])\n",
    "plot_pacf(train, ax = axes[1])\n",
    "plt.show()"
   ]
  },
  {
   "cell_type": "markdown",
   "metadata": {},
   "source": [
    "* chọn m = 8"
   ]
  },
  {
   "cell_type": "code",
   "execution_count": null,
   "metadata": {},
   "outputs": [],
   "source": [
    "n_pred_perious = 365\n",
    "model_sarima = best_model(train,m = 8)\n",
    "fitted, confint = model_sarima.predict(n_periods=n_pred_perious, return_conf_int=True)\n",
    "date = pd.date_range(train.index[-1], periods=n_pred_perious, freq='D')\n",
    "fitted_seri = pd.Series(fitted, index=date)"
   ]
  },
  {
   "cell_type": "code",
   "execution_count": null,
   "metadata": {},
   "outputs": [],
   "source": [
    "# Predict model\n",
    "lower = confint[:, 0]\n",
    "upper = confint[:, 1]\n",
    "\n",
    "plt.figure(figsize=(16, 8))\n",
    "plt.plot(train, label='Actual')\n",
    "plt.plot(fitted_seri, color='red', label = 'Forecast')\n",
    "plt.fill_between(date, lower, upper, color='k', alpha=0.15)\n",
    "plt.legend()\n",
    "plt.title('SARIMA regression model forecast for 2021')\n",
    "plt.show()"
   ]
  },
  {
   "cell_type": "markdown",
   "metadata": {},
   "source": [
    "## TỔNG KẾT"
   ]
  },
  {
   "cell_type": "markdown",
   "metadata": {},
   "source": [
    "Các kết luận rút ra được từ việc phân tích trên:\n",
    "1.  + Tiểu bang California là tiểu bang có số vụ tai nạn cao nhất cao hơn rất nhiều so với top 2 - 5 phía dưới, cao gấp hơn 2 lần. Nguyên nhân đầu tiên chính là tiểu bang này là tiểu bang có dân số nhiều nhất nước Mỹ.\n",
    "    + 3 thành phố  có tai nạn nhiều nhất là: Los Angeles, Houston, Charlotte. Đặc điểm ở 3 thành phố này cũng đều nằm trong top các thành phố có mật độ dân số cao.\n",
    "    + Tai nạn hay xảy ra ở các đoạn cua, các giao lộ nhiều làn giao nhau.\n",
    "2. Phụ thuộc theo thời gian  \n",
    "    + Tình hình tai nạn xảy ra tăng dần theo năm, đặc biệt là năm 2020 - tăng rất nhanh so với năm 2019(gần gấp đôi).\n",
    "    + Tai nạn tăng nhanh những tháng cuối năm.\n",
    "    + Tai nạn thường xảy ra vào các giờ cao điểm như 7-8, 15-17.\n",
    "    + Tai nạn giảm vào cuối tuần.\n",
    "3. Mức độ nghiêm trọng cao có xu hướng giảm theo từng năm mặc dù số tai nạn tăng theo từng năm.\n",
    "4. Tai nạn xảy ra nhiều tại các nơi thiếu các điều kiện giao thông ở gần. Điều kiện giao thông ở đây là các yếu tố sau:\n",
    "    + Amenity: Cho biết có sự hiện diện của một tòa nhà họặc địa điểm nào ở gần không.\n",
    "    + Bump: Cho biết có sự hiện của gờ giảm tốc ở gần hay không\n",
    "    + Crossing: Cho biết có xuất hiện nơi có hai đường bộ, hai đường sắt hoặc đường bộ và đường sắt giao nhau ở gần hay không\n",
    "    + Give_Way: Cho biết có các give_way(nơi nhường đường, biển báo nhường đường) ở gần không\n",
    "    + Junction: Cho biết có giao lộ ở gần hay không \n",
    "    + No_Exit: Cho biết có biển báo no_exit ở gần hay không\n",
    "    + Railway: Cho biết có đường sắt ở gần hay không\n",
    "    + Roundabout: Cho biết có bùng binh ở gần hay không\n",
    "    + Station: Cho biết có các trạm ga tàu ở gần hay không\n",
    "    + Stop: Cho biết có các biển báo dừng ở gần hay không\n",
    "    + Traffic_Calming: Cho biết có các biện pháp làm chậm giao thông ở gần hay không\n",
    "    + Traffic_Signal: Cho biết có các tín hiểu, đèn giao thông ở gần hay không\n",
    "    + Turning_Loop: Cho biết có vòng xoay ở gần hay không\n",
    "5. Các điều kiện thời tiết ảnh hưởng đến tai nạn giao thông rút ra như sau:\n",
    "    + Temperature(F): tai nạn xảy ra nhiều ở nhiệt độ trong đoạn [50, 70] (F) (Mức trung bình)\n",
    "    + Humidity(%): phân phối khá đều, chỉ lệch ở mức độ ẩm 90% và khoảng 100% (hai điểm này tai nạn khá cao)\n",
    "    + Pressure(in): Tai nạn xảy ra nhiều ở mức áp suất không khí ở khoảng 30in. Có thể cho rằng áp suất không khí không ảnh hưởng lắm vì giá trị xấp xỉ 30in là mức tiêu chuẩn ở gần mặt đất\n",
    "    + Visibility(mi): Tai nạn xảy ra nhiều ở mức Visibility (khả năng nhìn thấy tính bằng m) khá thấp\n",
    "    + Thời tiết đẹp thì tai nạn nhiều. Có thể suy ra rằng vào thời tiết đẹp thì mọi người ra đường nhiều nên tỉ lệ tai nạn cao\n",
    "    + Wind_direction: Tai nạn xảy ra nhiều lúc trời lặng gió`\n",
    "    \n",
    "6. Dự đoán tương lai: Từ các phân tích `Time series` của thuộc tính `Start_Time` ở trên ta có thể dự đoán được tình hình tai nạn của nước Mỹ trong năm 2021. Nhìn vào biểu đồ có thể nhận thấy xu hướng tai nạn tăng rất nhanh vào năm 2021 với vùng màu xám thể hiện độ sai lệch của dự đoán."
   ]
  },
  {
   "cell_type": "markdown",
   "metadata": {},
   "source": [
    "## Reference"
   ]
  },
  {
   "cell_type": "markdown",
   "metadata": {},
   "source": [
    "- https://plotly.com/python/bubble-maps/\n",
    "- https://plotly.com/python/mapbox-density-heatmaps/\n",
    "- https://plotly.com/python/choropleth-maps/\n",
    "- https://phamdinhkhanh.github.io/2019/12/12/ARIMAmodel.html\n",
    "- https://otexts.com/fpp2/seasonal-arima.html"
   ]
  }
 ],
 "metadata": {
  "kernelspec": {
   "display_name": "Python 3",
   "language": "python",
   "name": "python3"
  },
  "language_info": {
   "codemirror_mode": {
    "name": "ipython",
    "version": 3
   },
   "file_extension": ".py",
   "mimetype": "text/x-python",
   "name": "python",
   "nbconvert_exporter": "python",
   "pygments_lexer": "ipython3",
   "version": "3.8.3"
  }
 },
 "nbformat": 4,
 "nbformat_minor": 4
}
